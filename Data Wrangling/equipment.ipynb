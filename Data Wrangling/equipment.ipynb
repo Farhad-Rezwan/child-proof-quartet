{
 "cells": [
  {
   "cell_type": "code",
   "execution_count": 17,
   "metadata": {},
   "outputs": [],
   "source": [
    "import pandas as pd\n",
    "import re\n",
    "from math import sin, asin, cos, radians, fabs, sqrt\n",
    "from nltk.stem import PorterStemmer"
   ]
  },
  {
   "cell_type": "code",
   "execution_count": 3,
   "metadata": {},
   "outputs": [
    {
     "data": {
      "text/html": [
       "<div>\n",
       "<style scoped>\n",
       "    .dataframe tbody tr th:only-of-type {\n",
       "        vertical-align: middle;\n",
       "    }\n",
       "\n",
       "    .dataframe tbody tr th {\n",
       "        vertical-align: top;\n",
       "    }\n",
       "\n",
       "    .dataframe thead th {\n",
       "        text-align: right;\n",
       "    }\n",
       "</style>\n",
       "<table border=\"1\" class=\"dataframe\">\n",
       "  <thead>\n",
       "    <tr style=\"text-align: right;\">\n",
       "      <th></th>\n",
       "      <th>the_geom</th>\n",
       "      <th>name</th>\n",
       "      <th>features</th>\n",
       "    </tr>\n",
       "  </thead>\n",
       "  <tbody>\n",
       "    <tr>\n",
       "      <th>0</th>\n",
       "      <td>MULTIPOLYGON (((144.984881858222 -37.838765747...</td>\n",
       "      <td>Fawkner Park North East</td>\n",
       "      <td>Chin up bar, parallel bars, balance beam, some...</td>\n",
       "    </tr>\n",
       "    <tr>\n",
       "      <th>1</th>\n",
       "      <td>MULTIPOLYGON (((144.973011582673 -37.820142955...</td>\n",
       "      <td>Riverslide Skate Park</td>\n",
       "      <td>Concrete skate ramp, public toilet.</td>\n",
       "    </tr>\n",
       "    <tr>\n",
       "      <th>2</th>\n",
       "      <td>MULTIPOLYGON (((144.930838670413 -37.795482932...</td>\n",
       "      <td>Bellair Street Reserve Playground</td>\n",
       "      <td>Spring rocker, swings, platform, slide, picnic...</td>\n",
       "    </tr>\n",
       "    <tr>\n",
       "      <th>3</th>\n",
       "      <td>MULTIPOLYGON (((144.962101292482 -37.781312338...</td>\n",
       "      <td>Princes Park North Playground</td>\n",
       "      <td>Swing, spring riders, see saw.</td>\n",
       "    </tr>\n",
       "    <tr>\n",
       "      <th>4</th>\n",
       "      <td>MULTIPOLYGON (((144.940758503705 -37.820191736...</td>\n",
       "      <td>Buluk Park Playground</td>\n",
       "      <td>NaN</td>\n",
       "    </tr>\n",
       "  </tbody>\n",
       "</table>\n",
       "</div>"
      ],
      "text/plain": [
       "                                            the_geom  \\\n",
       "0  MULTIPOLYGON (((144.984881858222 -37.838765747...   \n",
       "1  MULTIPOLYGON (((144.973011582673 -37.820142955...   \n",
       "2  MULTIPOLYGON (((144.930838670413 -37.795482932...   \n",
       "3  MULTIPOLYGON (((144.962101292482 -37.781312338...   \n",
       "4  MULTIPOLYGON (((144.940758503705 -37.820191736...   \n",
       "\n",
       "                                name  \\\n",
       "0            Fawkner Park North East   \n",
       "1              Riverslide Skate Park   \n",
       "2  Bellair Street Reserve Playground   \n",
       "3      Princes Park North Playground   \n",
       "4              Buluk Park Playground   \n",
       "\n",
       "                                            features  \n",
       "0  Chin up bar, parallel bars, balance beam, some...  \n",
       "1                Concrete skate ramp, public toilet.  \n",
       "2  Spring rocker, swings, platform, slide, picnic...  \n",
       "3                     Swing, spring riders, see saw.  \n",
       "4                                                NaN  "
      ]
     },
     "execution_count": 3,
     "metadata": {},
     "output_type": "execute_result"
    }
   ],
   "source": [
    "playground = pd.read_csv('mel.csv')\n",
    "playground = playground.drop(columns = ['council_re','location_d'])\n",
    "playground.head()"
   ]
  },
  {
   "cell_type": "code",
   "execution_count": 5,
   "metadata": {},
   "outputs": [],
   "source": [
    "equipment = list(playground['features'])\n",
    "unique_equipment = {}\n",
    "for i in equipment :\n",
    "    index = equipment.index(i)\n",
    "    if type(i) == str :\n",
    "        temp = i.replace('.','').lower().split(', ')\n",
    "        for j in temp :\n",
    "            if j not in unique_equipment :\n",
    "                unique_equipment[j] = []\n",
    "                unique_equipment[j].append(index)\n",
    "            else :\n",
    "                unique_equipment[j].append(index)"
   ]
  },
  {
   "cell_type": "code",
   "execution_count": 11,
   "metadata": {},
   "outputs": [],
   "source": [
    "all_equipment = list(unique_equipment.keys())"
   ]
  },
  {
   "cell_type": "code",
   "execution_count": 41,
   "metadata": {},
   "outputs": [],
   "source": [
    "single_word = []\n",
    "cleaned_single = []\n",
    "for i in all_equipment:\n",
    "    if ' ' not in i :\n",
    "        single_word.append(i)\n",
    "        match = re.search(r'(\\w+)s',i)\n",
    "        if match :\n",
    "            temp = str(match.group(1))\n",
    "            cleaned_single.append(temp)\n",
    "        else :\n",
    "            cleaned_single.append(i)\n",
    "cleaned_single = list(set(cleaned_single))"
   ]
  },
  {
   "cell_type": "code",
   "execution_count": 49,
   "metadata": {},
   "outputs": [
    {
     "data": {
      "text/plain": [
       "['abacus',\n",
       " 'barbecue',\n",
       " 'barbeque',\n",
       " 'bells',\n",
       " 'boardwalk',\n",
       " 'carousel',\n",
       " 'carousels',\n",
       " 'chalkboard',\n",
       " 'climber',\n",
       " 'climbers',\n",
       " 'cubby',\n",
       " 'excavator',\n",
       " 'fort',\n",
       " 'platform',\n",
       " 'platforms',\n",
       " 'rocker',\n",
       " 'rockers',\n",
       " 'sandpit',\n",
       " 'sandpits',\n",
       " 'see-saw',\n",
       " 'shade',\n",
       " 'slide',\n",
       " 'slides',\n",
       " 'spinner',\n",
       " 'spinners',\n",
       " 'swing',\n",
       " 'swings',\n",
       " 'tic-tac-toe']"
      ]
     },
     "execution_count": 49,
     "metadata": {},
     "output_type": "execute_result"
    }
   ],
   "source": [
    "single_word"
   ]
  },
  {
   "cell_type": "code",
   "execution_count": 58,
   "metadata": {},
   "outputs": [
    {
     "data": {
      "text/plain": [
       "['abacus',\n",
       " 'barbecue',\n",
       " 'bell',\n",
       " 'boardwalk',\n",
       " 'carousel',\n",
       " 'chalkboard',\n",
       " 'climber',\n",
       " 'cubby',\n",
       " 'excavator',\n",
       " 'fort',\n",
       " 'platform',\n",
       " 'rocker',\n",
       " 'sandpit',\n",
       " 'see-saw',\n",
       " 'shade',\n",
       " 'slide',\n",
       " 'spinner',\n",
       " 'swing',\n",
       " 'tic-tac-toe']"
      ]
     },
     "execution_count": 58,
     "metadata": {},
     "output_type": "execute_result"
    }
   ],
   "source": [
    "cleaned_single"
   ]
  },
  {
   "cell_type": "code",
   "execution_count": 62,
   "metadata": {},
   "outputs": [],
   "source": [
    "classfy = {}\n",
    "remain = []\n",
    "for i in all_equipment :\n",
    "    flag = False\n",
    "    for j in cleaned_single :\n",
    "        if j not in classfy :\n",
    "            classfy[j] = []\n",
    "        if j in i :\n",
    "            flag = True\n",
    "            classfy[j].append(i)\n",
    "    if not flag :\n",
    "        remain.append(i)"
   ]
  },
  {
   "cell_type": "code",
   "execution_count": 109,
   "metadata": {},
   "outputs": [
    {
     "data": {
      "text/plain": [
       "['balance beam',\n",
       " 'public toilet',\n",
       " 'picnic table',\n",
       " 'spring riders',\n",
       " 'stockyard style fencing',\n",
       " 'fitness track',\n",
       " 'balancing bridges',\n",
       " 'quiet areas and active play areas',\n",
       " 'sheep sculptures',\n",
       " 'combination units',\n",
       " 'multi-level play structure',\n",
       " 'picnic tables',\n",
       " 'musical wall',\n",
       " 'bmx track',\n",
       " 'spring rider',\n",
       " 'combination unit',\n",
       " 'play units with mirror panel',\n",
       " 'shop front',\n",
       " 'clock and steering wheel',\n",
       " 'rubber pathways',\n",
       " 'track glide',\n",
       " 'pirate ship play structure',\n",
       " 'rocking table',\n",
       " 'stepping posts',\n",
       " 'grassed areas',\n",
       " 'rock wall',\n",
       " 'synthetic surface',\n",
       " 'bells',\n",
       " 'abacus',\n",
       " 'boardwalk',\n",
       " 'chalkboard',\n",
       " 'excavator',\n",
       " 'tic-tac-toe']"
      ]
     },
     "execution_count": 109,
     "metadata": {},
     "output_type": "execute_result"
    }
   ],
   "source": [
    "remain"
   ]
  },
  {
   "cell_type": "code",
   "execution_count": 108,
   "metadata": {},
   "outputs": [
    {
     "data": {
      "text/plain": [
       "{'barbecue': ['barbecue', 'barbeque'],\n",
       " 'carousel': ['carousels', 'carousel and slide', 'carousel'],\n",
       " 'cubby': ['cubby', 'cubby with slide'],\n",
       " 'platform': ['platform', 'platforms', 'tower platforms'],\n",
       " 'rocker': ['spring rocker', 'rockers', 'rocker', '4-way spring rocker'],\n",
       " 'sandpit': ['sandpits', 'sandpit with diggers', 'sandpit', 'sand pit'],\n",
       " 'see-saw': ['see-saw', 'see saw', 'see saws'],\n",
       " 'shade': ['some shade', 'shade structure', 'lots of shade', 'shade'],\n",
       " 'slide': ['slide',\n",
       "  'double slide',\n",
       "  'spiral slide',\n",
       "  'carousel and slide',\n",
       "  'toddler playspace - slide',\n",
       "  'slides',\n",
       "  'cubby with slide',\n",
       "  'slide and climbing features',\n",
       "  'dragon slide'],\n",
       " 'spinner': ['spinners', 'spinner'],\n",
       " 'swing': ['swings',\n",
       "  'swing',\n",
       "  '5-way swing',\n",
       "  'swinging hammocks',\n",
       "  'liberty swing for wheelchairs',\n",
       "  '1 x 5 way swing',\n",
       "  'rocking swing',\n",
       "  'sandplit and swings',\n",
       "  'giraffe swing'],\n",
       " 'climb': ['climbers',\n",
       "  'climbers x 3',\n",
       "  'climber',\n",
       "  'rock and rope climbing features',\n",
       "  'climbing frame',\n",
       "  'climbing features'],\n",
       " 'skate': ['concrete skate ramp', 'skate park'],\n",
       " 'basketball': ['basketball court',\n",
       "  'play court space with basketball backboard only',\n",
       "  'tunnels and barrels  temporary basketball court with backboard and ring',\n",
       "  'basketball rings'],\n",
       " 'disable': ['disabled access',\n",
       "  'some disabled access',\n",
       "  'play panel and small stage area some disabled access'],\n",
       " 'bar': ['chin up bar', 'chin up bars', 'monkey bars', 'parallel bars'],\n",
       " 'tower': ['fort', 'fort tower', 'small tower', 'wooden tower']}"
      ]
     },
     "execution_count": 108,
     "metadata": {},
     "output_type": "execute_result"
    }
   ],
   "source": [
    "classfy"
   ]
  },
  {
   "cell_type": "code",
   "execution_count": 76,
   "metadata": {},
   "outputs": [],
   "source": [
    "classfy['climber'].append('rock and rope climbing features')\n",
    "remain.remove('rock and rope climbing features')"
   ]
  },
  {
   "cell_type": "code",
   "execution_count": 90,
   "metadata": {},
   "outputs": [
    {
     "data": {
      "text/plain": [
       "['bells']"
      ]
     },
     "execution_count": 90,
     "metadata": {},
     "output_type": "execute_result"
    }
   ],
   "source": [
    "remain.append('bells')\n",
    "classfy.pop('bell')"
   ]
  },
  {
   "cell_type": "code",
   "execution_count": 106,
   "metadata": {},
   "outputs": [],
   "source": [
    "classfy['tower'] = classfy.pop('fort')"
   ]
  },
  {
   "cell_type": "code",
   "execution_count": 97,
   "metadata": {},
   "outputs": [],
   "source": [
    "classfy['bar'] = []\n",
    "    "
   ]
  },
  {
   "cell_type": "code",
   "execution_count": 107,
   "metadata": {},
   "outputs": [],
   "source": [
    "for i in remain :\n",
    "    for j in list(classfy.keys()) :\n",
    "        if j in i :\n",
    "            classfy[j].append(i)\n",
    "            remain.remove(i)"
   ]
  },
  {
   "cell_type": "code",
   "execution_count": 103,
   "metadata": {},
   "outputs": [],
   "source": [
    "aaa=[]\n",
    "for k,v in classfy.items() :\n",
    "    if len(v) == 1 :\n",
    "        remain.append(k)\n",
    "        aaa.append(k)\n",
    "for i in aaa:\n",
    "    classfy.pop(i)"
   ]
  },
  {
   "cell_type": "code",
   "execution_count": null,
   "metadata": {},
   "outputs": [],
   "source": []
  },
  {
   "cell_type": "code",
   "execution_count": null,
   "metadata": {},
   "outputs": [],
   "source": []
  }
 ],
 "metadata": {
  "kernelspec": {
   "display_name": "Python 3",
   "language": "python",
   "name": "python3"
  },
  "language_info": {
   "codemirror_mode": {
    "name": "ipython",
    "version": 3
   },
   "file_extension": ".py",
   "mimetype": "text/x-python",
   "name": "python",
   "nbconvert_exporter": "python",
   "pygments_lexer": "ipython3",
   "version": "3.7.6"
  }
 },
 "nbformat": 4,
 "nbformat_minor": 4
}
